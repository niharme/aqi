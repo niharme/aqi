{
 "cells": [
  {
   "cell_type": "code",
   "execution_count": 1,
   "metadata": {},
   "outputs": [],
   "source": [
    "import pandas as pd"
   ]
  },
  {
   "cell_type": "code",
   "execution_count": 2,
   "metadata": {},
   "outputs": [],
   "source": [
    "import requests\n",
    "from geopy.geocoders import Nominatim"
   ]
  },
  {
   "cell_type": "code",
   "execution_count": 3,
   "metadata": {},
   "outputs": [],
   "source": [
    "def getData(city):\n",
    "  locator = Nominatim(user_agent=\"myGeocoder\")\n",
    "  location = locator.geocode(city)\n",
    "\n",
    "  lat = location.latitude\n",
    "  lon = location.longitude\n",
    "  \n",
    "  api_key = \"7c3ee70966a7361a697fda3ca7a310ac\"\n",
    "  URL = f\"http://api.openweathermap.org/data/2.5/air_pollution/forecast?lat={lat}&lon={lon}&appid={api_key}\"\n",
    "\n",
    "  response = requests.get(URL)\n",
    "  data = \"\"\n",
    "  \n",
    "  if(response.status_code == 200):\n",
    "    data = response.json()\n",
    "  else:\n",
    "    data=\"!D\"\n",
    "  \n",
    "  return data"
   ]
  },
  {
   "cell_type": "code",
   "execution_count": 4,
   "metadata": {},
   "outputs": [],
   "source": [
    "data = getData(\"rourkela\")"
   ]
  },
  {
   "cell_type": "code",
   "execution_count": 5,
   "metadata": {},
   "outputs": [
    {
     "data": {
      "text/html": [
       "<div>\n",
       "<style scoped>\n",
       "    .dataframe tbody tr th:only-of-type {\n",
       "        vertical-align: middle;\n",
       "    }\n",
       "\n",
       "    .dataframe tbody tr th {\n",
       "        vertical-align: top;\n",
       "    }\n",
       "\n",
       "    .dataframe thead th {\n",
       "        text-align: right;\n",
       "    }\n",
       "</style>\n",
       "<table border=\"1\" class=\"dataframe\">\n",
       "  <thead>\n",
       "    <tr style=\"text-align: right;\">\n",
       "      <th></th>\n",
       "      <th>main</th>\n",
       "      <th>components</th>\n",
       "      <th>dt</th>\n",
       "    </tr>\n",
       "  </thead>\n",
       "  <tbody>\n",
       "    <tr>\n",
       "      <th>0</th>\n",
       "      <td>{'aqi': 4}</td>\n",
       "      <td>{'co': 453.95, 'no': 0.03, 'no2': 6.94, 'o3': ...</td>\n",
       "      <td>1659776400</td>\n",
       "    </tr>\n",
       "    <tr>\n",
       "      <th>1</th>\n",
       "      <td>{'aqi': 4}</td>\n",
       "      <td>{'co': 460.63, 'no': 0.05, 'no2': 7.71, 'o3': ...</td>\n",
       "      <td>1659780000</td>\n",
       "    </tr>\n",
       "    <tr>\n",
       "      <th>2</th>\n",
       "      <td>{'aqi': 4}</td>\n",
       "      <td>{'co': 467.3, 'no': 0.06, 'no2': 7.97, 'o3': 1...</td>\n",
       "      <td>1659783600</td>\n",
       "    </tr>\n",
       "    <tr>\n",
       "      <th>3</th>\n",
       "      <td>{'aqi': 3}</td>\n",
       "      <td>{'co': 460.63, 'no': 0.04, 'no2': 8.31, 'o3': ...</td>\n",
       "      <td>1659787200</td>\n",
       "    </tr>\n",
       "    <tr>\n",
       "      <th>4</th>\n",
       "      <td>{'aqi': 3}</td>\n",
       "      <td>{'co': 460.63, 'no': 0.01, 'no2': 10.54, 'o3':...</td>\n",
       "      <td>1659790800</td>\n",
       "    </tr>\n",
       "  </tbody>\n",
       "</table>\n",
       "</div>"
      ],
      "text/plain": [
       "         main                                         components          dt\n",
       "0  {'aqi': 4}  {'co': 453.95, 'no': 0.03, 'no2': 6.94, 'o3': ...  1659776400\n",
       "1  {'aqi': 4}  {'co': 460.63, 'no': 0.05, 'no2': 7.71, 'o3': ...  1659780000\n",
       "2  {'aqi': 4}  {'co': 467.3, 'no': 0.06, 'no2': 7.97, 'o3': 1...  1659783600\n",
       "3  {'aqi': 3}  {'co': 460.63, 'no': 0.04, 'no2': 8.31, 'o3': ...  1659787200\n",
       "4  {'aqi': 3}  {'co': 460.63, 'no': 0.01, 'no2': 10.54, 'o3':...  1659790800"
      ]
     },
     "execution_count": 5,
     "metadata": {},
     "output_type": "execute_result"
    }
   ],
   "source": [
    "df = pd.DataFrame(data[\"list\"])\n",
    "df.head()"
   ]
  },
  {
   "cell_type": "code",
   "execution_count": 6,
   "metadata": {},
   "outputs": [
    {
     "data": {
      "text/plain": [
       "pandas.core.frame.DataFrame"
      ]
     },
     "execution_count": 6,
     "metadata": {},
     "output_type": "execute_result"
    }
   ],
   "source": [
    "components = df[\"components\"].apply(pd.Series)\n",
    "type(components)"
   ]
  },
  {
   "cell_type": "code",
   "execution_count": 7,
   "metadata": {},
   "outputs": [
    {
     "data": {
      "text/html": [
       "<div>\n",
       "<style scoped>\n",
       "    .dataframe tbody tr th:only-of-type {\n",
       "        vertical-align: middle;\n",
       "    }\n",
       "\n",
       "    .dataframe tbody tr th {\n",
       "        vertical-align: top;\n",
       "    }\n",
       "\n",
       "    .dataframe thead th {\n",
       "        text-align: right;\n",
       "    }\n",
       "</style>\n",
       "<table border=\"1\" class=\"dataframe\">\n",
       "  <thead>\n",
       "    <tr style=\"text-align: right;\">\n",
       "      <th></th>\n",
       "      <th>co</th>\n",
       "      <th>no</th>\n",
       "      <th>no2</th>\n",
       "      <th>o3</th>\n",
       "      <th>so2</th>\n",
       "      <th>pm2_5</th>\n",
       "      <th>pm10</th>\n",
       "      <th>nh3</th>\n",
       "    </tr>\n",
       "  </thead>\n",
       "  <tbody>\n",
       "    <tr>\n",
       "      <th>0</th>\n",
       "      <td>453.95</td>\n",
       "      <td>0.03</td>\n",
       "      <td>6.94</td>\n",
       "      <td>24.68</td>\n",
       "      <td>2.59</td>\n",
       "      <td>26.01</td>\n",
       "      <td>27.81</td>\n",
       "      <td>1.92</td>\n",
       "    </tr>\n",
       "    <tr>\n",
       "      <th>1</th>\n",
       "      <td>460.63</td>\n",
       "      <td>0.05</td>\n",
       "      <td>7.71</td>\n",
       "      <td>21.10</td>\n",
       "      <td>2.80</td>\n",
       "      <td>27.47</td>\n",
       "      <td>29.17</td>\n",
       "      <td>2.06</td>\n",
       "    </tr>\n",
       "    <tr>\n",
       "      <th>2</th>\n",
       "      <td>467.30</td>\n",
       "      <td>0.06</td>\n",
       "      <td>7.97</td>\n",
       "      <td>18.60</td>\n",
       "      <td>2.44</td>\n",
       "      <td>27.01</td>\n",
       "      <td>28.64</td>\n",
       "      <td>2.31</td>\n",
       "    </tr>\n",
       "    <tr>\n",
       "      <th>3</th>\n",
       "      <td>460.63</td>\n",
       "      <td>0.04</td>\n",
       "      <td>8.31</td>\n",
       "      <td>16.63</td>\n",
       "      <td>1.73</td>\n",
       "      <td>24.30</td>\n",
       "      <td>25.89</td>\n",
       "      <td>2.34</td>\n",
       "    </tr>\n",
       "    <tr>\n",
       "      <th>4</th>\n",
       "      <td>460.63</td>\n",
       "      <td>0.01</td>\n",
       "      <td>10.54</td>\n",
       "      <td>13.05</td>\n",
       "      <td>2.27</td>\n",
       "      <td>21.61</td>\n",
       "      <td>23.41</td>\n",
       "      <td>2.31</td>\n",
       "    </tr>\n",
       "  </tbody>\n",
       "</table>\n",
       "</div>"
      ],
      "text/plain": [
       "       co    no    no2     o3   so2  pm2_5   pm10   nh3\n",
       "0  453.95  0.03   6.94  24.68  2.59  26.01  27.81  1.92\n",
       "1  460.63  0.05   7.71  21.10  2.80  27.47  29.17  2.06\n",
       "2  467.30  0.06   7.97  18.60  2.44  27.01  28.64  2.31\n",
       "3  460.63  0.04   8.31  16.63  1.73  24.30  25.89  2.34\n",
       "4  460.63  0.01  10.54  13.05  2.27  21.61  23.41  2.31"
      ]
     },
     "execution_count": 7,
     "metadata": {},
     "output_type": "execute_result"
    }
   ],
   "source": [
    "components.head()"
   ]
  },
  {
   "cell_type": "code",
   "execution_count": 8,
   "metadata": {},
   "outputs": [
    {
     "data": {
      "text/plain": [
       "pandas.core.frame.DataFrame"
      ]
     },
     "execution_count": 8,
     "metadata": {},
     "output_type": "execute_result"
    }
   ],
   "source": [
    "main = df[\"main\"].apply(pd.Series)\n",
    "type(main)"
   ]
  },
  {
   "cell_type": "code",
   "execution_count": 9,
   "metadata": {},
   "outputs": [],
   "source": [
    "df.drop([\"main\", \"components\"], axis=1, inplace=True)"
   ]
  },
  {
   "cell_type": "code",
   "execution_count": 10,
   "metadata": {},
   "outputs": [
    {
     "data": {
      "text/html": [
       "<div>\n",
       "<style scoped>\n",
       "    .dataframe tbody tr th:only-of-type {\n",
       "        vertical-align: middle;\n",
       "    }\n",
       "\n",
       "    .dataframe tbody tr th {\n",
       "        vertical-align: top;\n",
       "    }\n",
       "\n",
       "    .dataframe thead th {\n",
       "        text-align: right;\n",
       "    }\n",
       "</style>\n",
       "<table border=\"1\" class=\"dataframe\">\n",
       "  <thead>\n",
       "    <tr style=\"text-align: right;\">\n",
       "      <th></th>\n",
       "      <th>dt</th>\n",
       "    </tr>\n",
       "  </thead>\n",
       "  <tbody>\n",
       "    <tr>\n",
       "      <th>0</th>\n",
       "      <td>1659776400</td>\n",
       "    </tr>\n",
       "    <tr>\n",
       "      <th>1</th>\n",
       "      <td>1659780000</td>\n",
       "    </tr>\n",
       "    <tr>\n",
       "      <th>2</th>\n",
       "      <td>1659783600</td>\n",
       "    </tr>\n",
       "    <tr>\n",
       "      <th>3</th>\n",
       "      <td>1659787200</td>\n",
       "    </tr>\n",
       "    <tr>\n",
       "      <th>4</th>\n",
       "      <td>1659790800</td>\n",
       "    </tr>\n",
       "  </tbody>\n",
       "</table>\n",
       "</div>"
      ],
      "text/plain": [
       "           dt\n",
       "0  1659776400\n",
       "1  1659780000\n",
       "2  1659783600\n",
       "3  1659787200\n",
       "4  1659790800"
      ]
     },
     "execution_count": 10,
     "metadata": {},
     "output_type": "execute_result"
    }
   ],
   "source": [
    "df.head()"
   ]
  },
  {
   "cell_type": "code",
   "execution_count": 11,
   "metadata": {},
   "outputs": [],
   "source": [
    "df = df.join(components).join(main)"
   ]
  },
  {
   "cell_type": "code",
   "execution_count": 12,
   "metadata": {},
   "outputs": [],
   "source": [
    "df.rename(columns={\"dt\": \"date\"}, inplace=True)"
   ]
  },
  {
   "cell_type": "code",
   "execution_count": 13,
   "metadata": {},
   "outputs": [],
   "source": [
    "df[\"date\"] = pd.to_datetime(df[\"date\"], unit=\"s\")"
   ]
  },
  {
   "cell_type": "code",
   "execution_count": 14,
   "metadata": {},
   "outputs": [],
   "source": [
    "df.set_index(\"date\", inplace=True)"
   ]
  },
  {
   "cell_type": "code",
   "execution_count": 15,
   "metadata": {},
   "outputs": [
    {
     "data": {
      "text/html": [
       "<div>\n",
       "<style scoped>\n",
       "    .dataframe tbody tr th:only-of-type {\n",
       "        vertical-align: middle;\n",
       "    }\n",
       "\n",
       "    .dataframe tbody tr th {\n",
       "        vertical-align: top;\n",
       "    }\n",
       "\n",
       "    .dataframe thead th {\n",
       "        text-align: right;\n",
       "    }\n",
       "</style>\n",
       "<table border=\"1\" class=\"dataframe\">\n",
       "  <thead>\n",
       "    <tr style=\"text-align: right;\">\n",
       "      <th></th>\n",
       "      <th>co</th>\n",
       "      <th>no</th>\n",
       "      <th>no2</th>\n",
       "      <th>o3</th>\n",
       "      <th>so2</th>\n",
       "      <th>pm2_5</th>\n",
       "      <th>pm10</th>\n",
       "      <th>nh3</th>\n",
       "      <th>aqi</th>\n",
       "    </tr>\n",
       "    <tr>\n",
       "      <th>date</th>\n",
       "      <th></th>\n",
       "      <th></th>\n",
       "      <th></th>\n",
       "      <th></th>\n",
       "      <th></th>\n",
       "      <th></th>\n",
       "      <th></th>\n",
       "      <th></th>\n",
       "      <th></th>\n",
       "    </tr>\n",
       "  </thead>\n",
       "  <tbody>\n",
       "    <tr>\n",
       "      <th>2022-08-06 09:00:00</th>\n",
       "      <td>453.95</td>\n",
       "      <td>0.03</td>\n",
       "      <td>6.94</td>\n",
       "      <td>24.68</td>\n",
       "      <td>2.59</td>\n",
       "      <td>26.01</td>\n",
       "      <td>27.81</td>\n",
       "      <td>1.92</td>\n",
       "      <td>4</td>\n",
       "    </tr>\n",
       "    <tr>\n",
       "      <th>2022-08-06 10:00:00</th>\n",
       "      <td>460.63</td>\n",
       "      <td>0.05</td>\n",
       "      <td>7.71</td>\n",
       "      <td>21.10</td>\n",
       "      <td>2.80</td>\n",
       "      <td>27.47</td>\n",
       "      <td>29.17</td>\n",
       "      <td>2.06</td>\n",
       "      <td>4</td>\n",
       "    </tr>\n",
       "    <tr>\n",
       "      <th>2022-08-06 11:00:00</th>\n",
       "      <td>467.30</td>\n",
       "      <td>0.06</td>\n",
       "      <td>7.97</td>\n",
       "      <td>18.60</td>\n",
       "      <td>2.44</td>\n",
       "      <td>27.01</td>\n",
       "      <td>28.64</td>\n",
       "      <td>2.31</td>\n",
       "      <td>4</td>\n",
       "    </tr>\n",
       "    <tr>\n",
       "      <th>2022-08-06 12:00:00</th>\n",
       "      <td>460.63</td>\n",
       "      <td>0.04</td>\n",
       "      <td>8.31</td>\n",
       "      <td>16.63</td>\n",
       "      <td>1.73</td>\n",
       "      <td>24.30</td>\n",
       "      <td>25.89</td>\n",
       "      <td>2.34</td>\n",
       "      <td>3</td>\n",
       "    </tr>\n",
       "    <tr>\n",
       "      <th>2022-08-06 13:00:00</th>\n",
       "      <td>460.63</td>\n",
       "      <td>0.01</td>\n",
       "      <td>10.54</td>\n",
       "      <td>13.05</td>\n",
       "      <td>2.27</td>\n",
       "      <td>21.61</td>\n",
       "      <td>23.41</td>\n",
       "      <td>2.31</td>\n",
       "      <td>3</td>\n",
       "    </tr>\n",
       "    <tr>\n",
       "      <th>...</th>\n",
       "      <td>...</td>\n",
       "      <td>...</td>\n",
       "      <td>...</td>\n",
       "      <td>...</td>\n",
       "      <td>...</td>\n",
       "      <td>...</td>\n",
       "      <td>...</td>\n",
       "      <td>...</td>\n",
       "      <td>...</td>\n",
       "    </tr>\n",
       "    <tr>\n",
       "      <th>2022-08-10 20:00:00</th>\n",
       "      <td>230.31</td>\n",
       "      <td>0.00</td>\n",
       "      <td>3.47</td>\n",
       "      <td>30.04</td>\n",
       "      <td>3.55</td>\n",
       "      <td>5.37</td>\n",
       "      <td>5.62</td>\n",
       "      <td>0.71</td>\n",
       "      <td>1</td>\n",
       "    </tr>\n",
       "    <tr>\n",
       "      <th>2022-08-10 21:00:00</th>\n",
       "      <td>230.31</td>\n",
       "      <td>0.00</td>\n",
       "      <td>3.73</td>\n",
       "      <td>27.54</td>\n",
       "      <td>3.64</td>\n",
       "      <td>5.67</td>\n",
       "      <td>5.91</td>\n",
       "      <td>0.72</td>\n",
       "      <td>1</td>\n",
       "    </tr>\n",
       "    <tr>\n",
       "      <th>2022-08-10 22:00:00</th>\n",
       "      <td>233.65</td>\n",
       "      <td>0.00</td>\n",
       "      <td>4.46</td>\n",
       "      <td>24.68</td>\n",
       "      <td>3.93</td>\n",
       "      <td>6.34</td>\n",
       "      <td>6.58</td>\n",
       "      <td>0.76</td>\n",
       "      <td>1</td>\n",
       "    </tr>\n",
       "    <tr>\n",
       "      <th>2022-08-10 23:00:00</th>\n",
       "      <td>247.00</td>\n",
       "      <td>0.00</td>\n",
       "      <td>6.08</td>\n",
       "      <td>20.03</td>\n",
       "      <td>4.71</td>\n",
       "      <td>7.48</td>\n",
       "      <td>7.75</td>\n",
       "      <td>0.80</td>\n",
       "      <td>1</td>\n",
       "    </tr>\n",
       "    <tr>\n",
       "      <th>2022-08-11 00:00:00</th>\n",
       "      <td>270.37</td>\n",
       "      <td>0.00</td>\n",
       "      <td>8.65</td>\n",
       "      <td>15.02</td>\n",
       "      <td>6.44</td>\n",
       "      <td>9.31</td>\n",
       "      <td>9.63</td>\n",
       "      <td>0.82</td>\n",
       "      <td>1</td>\n",
       "    </tr>\n",
       "  </tbody>\n",
       "</table>\n",
       "<p>112 rows × 9 columns</p>\n",
       "</div>"
      ],
      "text/plain": [
       "                         co    no    no2     o3   so2  pm2_5   pm10   nh3  aqi\n",
       "date                                                                          \n",
       "2022-08-06 09:00:00  453.95  0.03   6.94  24.68  2.59  26.01  27.81  1.92    4\n",
       "2022-08-06 10:00:00  460.63  0.05   7.71  21.10  2.80  27.47  29.17  2.06    4\n",
       "2022-08-06 11:00:00  467.30  0.06   7.97  18.60  2.44  27.01  28.64  2.31    4\n",
       "2022-08-06 12:00:00  460.63  0.04   8.31  16.63  1.73  24.30  25.89  2.34    3\n",
       "2022-08-06 13:00:00  460.63  0.01  10.54  13.05  2.27  21.61  23.41  2.31    3\n",
       "...                     ...   ...    ...    ...   ...    ...    ...   ...  ...\n",
       "2022-08-10 20:00:00  230.31  0.00   3.47  30.04  3.55   5.37   5.62  0.71    1\n",
       "2022-08-10 21:00:00  230.31  0.00   3.73  27.54  3.64   5.67   5.91  0.72    1\n",
       "2022-08-10 22:00:00  233.65  0.00   4.46  24.68  3.93   6.34   6.58  0.76    1\n",
       "2022-08-10 23:00:00  247.00  0.00   6.08  20.03  4.71   7.48   7.75  0.80    1\n",
       "2022-08-11 00:00:00  270.37  0.00   8.65  15.02  6.44   9.31   9.63  0.82    1\n",
       "\n",
       "[112 rows x 9 columns]"
      ]
     },
     "execution_count": 15,
     "metadata": {},
     "output_type": "execute_result"
    }
   ],
   "source": [
    "df"
   ]
  },
  {
   "cell_type": "markdown",
   "metadata": {},
   "source": [
    "# ```CO```"
   ]
  },
  {
   "cell_type": "code",
   "execution_count": 16,
   "metadata": {},
   "outputs": [
    {
     "data": {
      "text/plain": [
       "<AxesSubplot:xlabel='date'>"
      ]
     },
     "execution_count": 16,
     "metadata": {},
     "output_type": "execute_result"
    },
    {
     "data": {
      "image/png": "[encoded data removed]",
      "text/plain": [
       "<Figure size 432x288 with 1 Axes>"
      ]
     },
     "metadata": {
      "needs_background": "light"
     },
     "output_type": "display_data"
    }
   ],
   "source": [
    "df[\"co\"].plot()"
   ]
  },
  {
   "cell_type": "code",
   "execution_count": null,
   "metadata": {},
   "outputs": [],
   "source": []
  }
 ],
 "metadata": {
  "kernelspec": {
   "display_name": "Python 3.8.10 ('.venv': venv)",
   "language": "python",
   "name": "python3"
  },
  "language_info": {
   "codemirror_mode": {
    "name": "ipython",
    "version": 3
   },
   "file_extension": ".py",
   "mimetype": "text/x-python",
   "name": "python",
   "nbconvert_exporter": "python",
   "pygments_lexer": "ipython3",
   "version": "3.8.10"
  },
  "orig_nbformat": 4,
  "vscode": {
   "interpreter": {
    "hash": "e3bfe630a3fba83fa87d978d9ff2a723ebd3b9e142784fc2cbde2882b030c025"
   }
  }
 },
 "nbformat": 4,
 "nbformat_minor": 2
}
